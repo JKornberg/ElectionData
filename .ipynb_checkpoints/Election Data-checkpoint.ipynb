{
 "cells": [
  {
   "cell_type": "code",
   "execution_count": 1,
   "metadata": {},
   "outputs": [],
   "source": [
    "import pandas as pd\n",
    "import numpy as np\n",
    "import os\n",
    "import folium\n",
    "from sklearn.preprocessing import OneHotEncoder"
   ]
  },
  {
   "cell_type": "code",
   "execution_count": 2,
   "metadata": {},
   "outputs": [],
   "source": [
    "FOLDER_PATH = \"data\"\n",
    "def print_sources():\n",
    "    onlyfiles = [f for f in os.listdir(FOLDER_PATH) if os.path.isfile(os.path.join(FOLDER_PATH, f))]\n",
    "    return onlyfiles"
   ]
  },
  {
   "cell_type": "code",
   "execution_count": 3,
   "metadata": {},
   "outputs": [],
   "source": [
    "def load_csv(path):\n",
    "    return pd.read_csv(os.path.join(FOLDER_PATH, path))"
   ]
  },
  {
   "cell_type": "code",
   "execution_count": 4,
   "metadata": {},
   "outputs": [],
   "source": [
    "def combine_third_parties(df):\n",
    "    third_f = (df['party'] != 'DEM') & (df['party'] != 'REP')\n",
    "    df.loc[third_f,'party'] = '3RD'\n",
    "    return df"
   ]
  },
  {
   "cell_type": "code",
   "execution_count": 5,
   "metadata": {},
   "outputs": [],
   "source": [
    "def combine_party_and_encode(df):\n",
    "    df['county_state'] = df['county'] +'_'+ df['state']\n",
    "    df = df.groupby(['county', 'state', 'won','county_state','party'], as_index=False)['total_votes'].sum()\n",
    "    df = df.sort_values(['county_state','party'])\n",
    "    #One hot encoder\n",
    "    cat_encoder = OneHotEncoder()\n",
    "    party_cat = df[['party']]\n",
    "    one_hot_party = cat_encoder.fit_transform(party_cat)\n",
    "    one_hot_party = one_hot_party.toarray()\n",
    "    df[['3RD','DEM','REP']] = pd.DataFrame(one_hot_party, index=df.index)\n",
    "    df['index_col'] = df.index\n",
    "    return df"
   ]
  },
  {
   "cell_type": "code",
   "execution_count": 6,
   "metadata": {},
   "outputs": [
    {
     "data": {
      "text/plain": [
       "['governors_county.csv',\n",
       " 'governors_county_candidate.csv',\n",
       " 'governors_state.csv',\n",
       " 'house_candidate.csv',\n",
       " 'house_state.csv',\n",
       " 'president_county.csv',\n",
       " 'president_county_candidate.csv',\n",
       " 'president_state.csv',\n",
       " 'senate_county.csv',\n",
       " 'senate_county_candidate.csv',\n",
       " 'senate_state.csv']"
      ]
     },
     "execution_count": 6,
     "metadata": {},
     "output_type": "execute_result"
    }
   ],
   "source": [
    "print_sources()"
   ]
  },
  {
   "cell_type": "code",
   "execution_count": 7,
   "metadata": {},
   "outputs": [],
   "source": [
    "house_data = load_csv('house_candidate.csv')\n",
    "president_data = load_csv('president_county_candidate.csv')\n",
    "senate_data = load_csv('senate_county_candidate.csv')"
   ]
  },
  {
   "cell_type": "code",
   "execution_count": 18,
   "metadata": {},
   "outputs": [],
   "source": [
    "def combine_party_and_encode2(df):\n",
    "    df['county_state'] = df['county'] +'_'+ df['state']\n",
    "    votes = df.groupby(['county_state','party'], as_index=False).sum()\n",
    "    print(type(votes))\n",
    "    votes = votes.sort_values(['county_state','party']).reset_index(drop=True)\n",
    "    df = df.drop_duplicates(['county_state','party'])\n",
    "    df = df.sort_values(['county_state','party']).reset_index(drop=True)\n",
    "    df[['party_votes']] = votes['total_votes']\n",
    "    #print(df.head())\n",
    "    #One hot encoder\n",
    "    cat_encoder = OneHotEncoder()\n",
    "    party_cat = df[['party']]\n",
    "    one_hot_party = cat_encoder.fit_transform(party_cat)\n",
    "    one_hot_party = one_hot_party.toarray()\n",
    "    df[['3RD','DEM','REP']] = pd.DataFrame(one_hot_party, index=df.index)\n",
    "    return df, votes"
   ]
  },
  {
   "cell_type": "code",
   "execution_count": 19,
   "metadata": {},
   "outputs": [],
   "source": [
    "president_data_3 = combine_third_parties(president_data)"
   ]
  },
  {
   "cell_type": "code",
   "execution_count": 20,
   "metadata": {},
   "outputs": [
    {
     "name": "stdout",
     "output_type": "stream",
     "text": [
      "<class 'pandas.core.frame.DataFrame'>\n",
      "            state            county     candidate party  total_votes    won  \\\n",
      "0  South Carolina  Abbeville County  Jo Jorgensen   3RD           88  False   \n",
      "1  South Carolina  Abbeville County     Joe Biden   DEM         4101  False   \n",
      "2  South Carolina  Abbeville County  Donald Trump   REP         8215   True   \n",
      "3           Maine             Abbot  Jo Jorgensen   3RD            7  False   \n",
      "4           Maine             Abbot     Joe Biden   DEM          121  False   \n",
      "\n",
      "                      county_state  party_votes  \n",
      "0  Abbeville County_South Carolina          117  \n",
      "1  Abbeville County_South Carolina         4101  \n",
      "2  Abbeville County_South Carolina         8215  \n",
      "3                      Abbot_Maine            8  \n",
      "4                      Abbot_Maine          121  \n"
     ]
    }
   ],
   "source": [
    "president_data_p, votes = combine_party_and_encode2(president_data_3)"
   ]
  },
  {
   "cell_type": "code",
   "execution_count": 22,
   "metadata": {},
   "outputs": [
    {
     "name": "stdout",
     "output_type": "stream",
     "text": [
      "            state            county     candidate party  total_votes    won  \\\n",
      "0  South Carolina  Abbeville County  Jo Jorgensen   3RD           88  False   \n",
      "1  South Carolina  Abbeville County     Joe Biden   DEM         4101  False   \n",
      "2  South Carolina  Abbeville County  Donald Trump   REP         8215   True   \n",
      "3           Maine             Abbot  Jo Jorgensen   3RD            7  False   \n",
      "4           Maine             Abbot     Joe Biden   DEM          121  False   \n",
      "\n",
      "                      county_state  party_votes  3RD  DEM  REP  \n",
      "0  Abbeville County_South Carolina          117  1.0  0.0  0.0  \n",
      "1  Abbeville County_South Carolina         4101  0.0  1.0  0.0  \n",
      "2  Abbeville County_South Carolina         8215  0.0  0.0  1.0  \n",
      "3                      Abbot_Maine            8  1.0  0.0  0.0  \n",
      "4                      Abbot_Maine          121  0.0  1.0  0.0  \n"
     ]
    }
   ],
   "source": [
    "print(president_data_p.head())"
   ]
  },
  {
   "cell_type": "code",
   "execution_count": 116,
   "metadata": {},
   "outputs": [
    {
     "data": {
      "text/plain": [
       "0         117\n",
       "1        4101\n",
       "2        8215\n",
       "3           8\n",
       "4         121\n",
       "         ... \n",
       "13894      25\n",
       "13895    1490\n",
       "13896     481\n",
       "13897      21\n",
       "13898     404\n",
       "Name: total_votes, Length: 13899, dtype: int64"
      ]
     },
     "execution_count": 116,
     "metadata": {},
     "output_type": "execute_result"
    }
   ],
   "source": [
    "votes['total_votes']"
   ]
  },
  {
   "cell_type": "code",
   "execution_count": 25,
   "metadata": {},
   "outputs": [
    {
     "data": {
      "text/html": [
       "<div>\n",
       "<style scoped>\n",
       "    .dataframe tbody tr th:only-of-type {\n",
       "        vertical-align: middle;\n",
       "    }\n",
       "\n",
       "    .dataframe tbody tr th {\n",
       "        vertical-align: top;\n",
       "    }\n",
       "\n",
       "    .dataframe thead th {\n",
       "        text-align: right;\n",
       "    }\n",
       "</style>\n",
       "<table border=\"1\" class=\"dataframe\">\n",
       "  <thead>\n",
       "    <tr style=\"text-align: right;\">\n",
       "      <th></th>\n",
       "      <th>state</th>\n",
       "      <th>county</th>\n",
       "      <th>candidate</th>\n",
       "      <th>party</th>\n",
       "      <th>total_votes</th>\n",
       "      <th>won</th>\n",
       "      <th>county_state</th>\n",
       "    </tr>\n",
       "  </thead>\n",
       "  <tbody>\n",
       "    <tr>\n",
       "      <th>17481</th>\n",
       "      <td>South Carolina</td>\n",
       "      <td>Abbeville County</td>\n",
       "      <td>Donald Trump</td>\n",
       "      <td>REP</td>\n",
       "      <td>8215</td>\n",
       "      <td>True</td>\n",
       "      <td>Abbeville County_South Carolina</td>\n",
       "    </tr>\n",
       "    <tr>\n",
       "      <th>17485</th>\n",
       "      <td>South Carolina</td>\n",
       "      <td>Abbeville County</td>\n",
       "      <td>Rocky De La Fuente</td>\n",
       "      <td>3RD</td>\n",
       "      <td>6</td>\n",
       "      <td>False</td>\n",
       "      <td>Abbeville County_South Carolina</td>\n",
       "    </tr>\n",
       "    <tr>\n",
       "      <th>17484</th>\n",
       "      <td>South Carolina</td>\n",
       "      <td>Abbeville County</td>\n",
       "      <td>Howie Hawkins</td>\n",
       "      <td>3RD</td>\n",
       "      <td>23</td>\n",
       "      <td>False</td>\n",
       "      <td>Abbeville County_South Carolina</td>\n",
       "    </tr>\n",
       "    <tr>\n",
       "      <th>17483</th>\n",
       "      <td>South Carolina</td>\n",
       "      <td>Abbeville County</td>\n",
       "      <td>Jo Jorgensen</td>\n",
       "      <td>3RD</td>\n",
       "      <td>88</td>\n",
       "      <td>False</td>\n",
       "      <td>Abbeville County_South Carolina</td>\n",
       "    </tr>\n",
       "    <tr>\n",
       "      <th>17482</th>\n",
       "      <td>South Carolina</td>\n",
       "      <td>Abbeville County</td>\n",
       "      <td>Joe Biden</td>\n",
       "      <td>DEM</td>\n",
       "      <td>4101</td>\n",
       "      <td>False</td>\n",
       "      <td>Abbeville County_South Carolina</td>\n",
       "    </tr>\n",
       "    <tr>\n",
       "      <th>7226</th>\n",
       "      <td>Maine</td>\n",
       "      <td>Abbot</td>\n",
       "      <td>Joe Biden</td>\n",
       "      <td>DEM</td>\n",
       "      <td>121</td>\n",
       "      <td>False</td>\n",
       "      <td>Abbot_Maine</td>\n",
       "    </tr>\n",
       "    <tr>\n",
       "      <th>7228</th>\n",
       "      <td>Maine</td>\n",
       "      <td>Abbot</td>\n",
       "      <td>Howie Hawkins</td>\n",
       "      <td>3RD</td>\n",
       "      <td>1</td>\n",
       "      <td>False</td>\n",
       "      <td>Abbot_Maine</td>\n",
       "    </tr>\n",
       "    <tr>\n",
       "      <th>7227</th>\n",
       "      <td>Maine</td>\n",
       "      <td>Abbot</td>\n",
       "      <td>Jo Jorgensen</td>\n",
       "      <td>3RD</td>\n",
       "      <td>7</td>\n",
       "      <td>False</td>\n",
       "      <td>Abbot_Maine</td>\n",
       "    </tr>\n",
       "    <tr>\n",
       "      <th>7225</th>\n",
       "      <td>Maine</td>\n",
       "      <td>Abbot</td>\n",
       "      <td>Donald Trump</td>\n",
       "      <td>REP</td>\n",
       "      <td>288</td>\n",
       "      <td>True</td>\n",
       "      <td>Abbot_Maine</td>\n",
       "    </tr>\n",
       "    <tr>\n",
       "      <th>7230</th>\n",
       "      <td>Maine</td>\n",
       "      <td>Abbot</td>\n",
       "      <td>Write-ins</td>\n",
       "      <td>3RD</td>\n",
       "      <td>0</td>\n",
       "      <td>False</td>\n",
       "      <td>Abbot_Maine</td>\n",
       "    </tr>\n",
       "    <tr>\n",
       "      <th>7229</th>\n",
       "      <td>Maine</td>\n",
       "      <td>Abbot</td>\n",
       "      <td>Rocky De La Fuente</td>\n",
       "      <td>3RD</td>\n",
       "      <td>0</td>\n",
       "      <td>False</td>\n",
       "      <td>Abbot_Maine</td>\n",
       "    </tr>\n",
       "    <tr>\n",
       "      <th>9599</th>\n",
       "      <td>Massachusetts</td>\n",
       "      <td>Abington</td>\n",
       "      <td>Joe Biden</td>\n",
       "      <td>DEM</td>\n",
       "      <td>5127</td>\n",
       "      <td>True</td>\n",
       "      <td>Abington_Massachusetts</td>\n",
       "    </tr>\n",
       "    <tr>\n",
       "      <th>9600</th>\n",
       "      <td>Massachusetts</td>\n",
       "      <td>Abington</td>\n",
       "      <td>Donald Trump</td>\n",
       "      <td>REP</td>\n",
       "      <td>4188</td>\n",
       "      <td>False</td>\n",
       "      <td>Abington_Massachusetts</td>\n",
       "    </tr>\n",
       "    <tr>\n",
       "      <th>9601</th>\n",
       "      <td>Massachusetts</td>\n",
       "      <td>Abington</td>\n",
       "      <td>Jo Jorgensen</td>\n",
       "      <td>3RD</td>\n",
       "      <td>145</td>\n",
       "      <td>False</td>\n",
       "      <td>Abington_Massachusetts</td>\n",
       "    </tr>\n",
       "    <tr>\n",
       "      <th>9602</th>\n",
       "      <td>Massachusetts</td>\n",
       "      <td>Abington</td>\n",
       "      <td>Howie Hawkins</td>\n",
       "      <td>3RD</td>\n",
       "      <td>45</td>\n",
       "      <td>False</td>\n",
       "      <td>Abington_Massachusetts</td>\n",
       "    </tr>\n",
       "    <tr>\n",
       "      <th>9603</th>\n",
       "      <td>Massachusetts</td>\n",
       "      <td>Abington</td>\n",
       "      <td>Write-ins</td>\n",
       "      <td>3RD</td>\n",
       "      <td>45</td>\n",
       "      <td>False</td>\n",
       "      <td>Abington_Massachusetts</td>\n",
       "    </tr>\n",
       "    <tr>\n",
       "      <th>4365</th>\n",
       "      <td>Louisiana</td>\n",
       "      <td>Acadia Parish</td>\n",
       "      <td>Don Blankenship</td>\n",
       "      <td>3RD</td>\n",
       "      <td>16</td>\n",
       "      <td>False</td>\n",
       "      <td>Acadia Parish_Louisiana</td>\n",
       "    </tr>\n",
       "    <tr>\n",
       "      <th>4364</th>\n",
       "      <td>Louisiana</td>\n",
       "      <td>Acadia Parish</td>\n",
       "      <td>Jade Simmons</td>\n",
       "      <td>3RD</td>\n",
       "      <td>18</td>\n",
       "      <td>False</td>\n",
       "      <td>Acadia Parish_Louisiana</td>\n",
       "    </tr>\n",
       "    <tr>\n",
       "      <th>4370</th>\n",
       "      <td>Louisiana</td>\n",
       "      <td>Acadia Parish</td>\n",
       "      <td>Gloria La Riva</td>\n",
       "      <td>3RD</td>\n",
       "      <td>4</td>\n",
       "      <td>False</td>\n",
       "      <td>Acadia Parish_Louisiana</td>\n",
       "    </tr>\n",
       "    <tr>\n",
       "      <th>4366</th>\n",
       "      <td>Louisiana</td>\n",
       "      <td>Acadia Parish</td>\n",
       "      <td>President Boddie</td>\n",
       "      <td>3RD</td>\n",
       "      <td>12</td>\n",
       "      <td>False</td>\n",
       "      <td>Acadia Parish_Louisiana</td>\n",
       "    </tr>\n",
       "  </tbody>\n",
       "</table>\n",
       "</div>"
      ],
      "text/plain": [
       "                state            county           candidate party  \\\n",
       "17481  South Carolina  Abbeville County        Donald Trump   REP   \n",
       "17485  South Carolina  Abbeville County  Rocky De La Fuente   3RD   \n",
       "17484  South Carolina  Abbeville County       Howie Hawkins   3RD   \n",
       "17483  South Carolina  Abbeville County        Jo Jorgensen   3RD   \n",
       "17482  South Carolina  Abbeville County           Joe Biden   DEM   \n",
       "7226            Maine             Abbot           Joe Biden   DEM   \n",
       "7228            Maine             Abbot       Howie Hawkins   3RD   \n",
       "7227            Maine             Abbot        Jo Jorgensen   3RD   \n",
       "7225            Maine             Abbot        Donald Trump   REP   \n",
       "7230            Maine             Abbot           Write-ins   3RD   \n",
       "7229            Maine             Abbot  Rocky De La Fuente   3RD   \n",
       "9599    Massachusetts          Abington           Joe Biden   DEM   \n",
       "9600    Massachusetts          Abington        Donald Trump   REP   \n",
       "9601    Massachusetts          Abington        Jo Jorgensen   3RD   \n",
       "9602    Massachusetts          Abington       Howie Hawkins   3RD   \n",
       "9603    Massachusetts          Abington           Write-ins   3RD   \n",
       "4365        Louisiana     Acadia Parish     Don Blankenship   3RD   \n",
       "4364        Louisiana     Acadia Parish        Jade Simmons   3RD   \n",
       "4370        Louisiana     Acadia Parish      Gloria La Riva   3RD   \n",
       "4366        Louisiana     Acadia Parish    President Boddie   3RD   \n",
       "\n",
       "       total_votes    won                     county_state  \n",
       "17481         8215   True  Abbeville County_South Carolina  \n",
       "17485            6  False  Abbeville County_South Carolina  \n",
       "17484           23  False  Abbeville County_South Carolina  \n",
       "17483           88  False  Abbeville County_South Carolina  \n",
       "17482         4101  False  Abbeville County_South Carolina  \n",
       "7226           121  False                      Abbot_Maine  \n",
       "7228             1  False                      Abbot_Maine  \n",
       "7227             7  False                      Abbot_Maine  \n",
       "7225           288   True                      Abbot_Maine  \n",
       "7230             0  False                      Abbot_Maine  \n",
       "7229             0  False                      Abbot_Maine  \n",
       "9599          5127   True           Abington_Massachusetts  \n",
       "9600          4188  False           Abington_Massachusetts  \n",
       "9601           145  False           Abington_Massachusetts  \n",
       "9602            45  False           Abington_Massachusetts  \n",
       "9603            45  False           Abington_Massachusetts  \n",
       "4365            16  False          Acadia Parish_Louisiana  \n",
       "4364            18  False          Acadia Parish_Louisiana  \n",
       "4370             4  False          Acadia Parish_Louisiana  \n",
       "4366            12  False          Acadia Parish_Louisiana  "
      ]
     },
     "execution_count": 25,
     "metadata": {},
     "output_type": "execute_result"
    }
   ],
   "source": [
    "president_data.sort_values('county').head(20)"
   ]
  },
  {
   "cell_type": "code",
   "execution_count": 231,
   "metadata": {
    "scrolled": true
   },
   "outputs": [
    {
     "ename": "KeyError",
     "evalue": "'state'",
     "output_type": "error",
     "traceback": [
      "\u001b[1;31m---------------------------------------------------------------------------\u001b[0m",
      "\u001b[1;31mKeyError\u001b[0m                                  Traceback (most recent call last)",
      "\u001b[1;32mD:\\Anaconda\\envs\\ds\\lib\\site-packages\\pandas\\core\\indexes\\base.py\u001b[0m in \u001b[0;36mget_loc\u001b[1;34m(self, key, method, tolerance)\u001b[0m\n\u001b[0;32m   2894\u001b[0m             \u001b[1;32mtry\u001b[0m\u001b[1;33m:\u001b[0m\u001b[1;33m\u001b[0m\u001b[1;33m\u001b[0m\u001b[0m\n\u001b[1;32m-> 2895\u001b[1;33m                 \u001b[1;32mreturn\u001b[0m \u001b[0mself\u001b[0m\u001b[1;33m.\u001b[0m\u001b[0m_engine\u001b[0m\u001b[1;33m.\u001b[0m\u001b[0mget_loc\u001b[0m\u001b[1;33m(\u001b[0m\u001b[0mcasted_key\u001b[0m\u001b[1;33m)\u001b[0m\u001b[1;33m\u001b[0m\u001b[1;33m\u001b[0m\u001b[0m\n\u001b[0m\u001b[0;32m   2896\u001b[0m             \u001b[1;32mexcept\u001b[0m \u001b[0mKeyError\u001b[0m \u001b[1;32mas\u001b[0m \u001b[0merr\u001b[0m\u001b[1;33m:\u001b[0m\u001b[1;33m\u001b[0m\u001b[1;33m\u001b[0m\u001b[0m\n",
      "\u001b[1;32mpandas\\_libs\\index.pyx\u001b[0m in \u001b[0;36mpandas._libs.index.IndexEngine.get_loc\u001b[1;34m()\u001b[0m\n",
      "\u001b[1;32mpandas\\_libs\\index.pyx\u001b[0m in \u001b[0;36mpandas._libs.index.IndexEngine.get_loc\u001b[1;34m()\u001b[0m\n",
      "\u001b[1;32mpandas\\_libs\\index_class_helper.pxi\u001b[0m in \u001b[0;36mpandas._libs.index.Int64Engine._check_type\u001b[1;34m()\u001b[0m\n",
      "\u001b[1;31mKeyError\u001b[0m: 'state'",
      "\nThe above exception was the direct cause of the following exception:\n",
      "\u001b[1;31mKeyError\u001b[0m                                  Traceback (most recent call last)",
      "\u001b[1;32m<ipython-input-231-f26e8e317797>\u001b[0m in \u001b[0;36m<module>\u001b[1;34m\u001b[0m\n\u001b[1;32m----> 1\u001b[1;33m \u001b[0mpresident_data_p\u001b[0m\u001b[1;33m[\u001b[0m\u001b[0mpresident_data_p\u001b[0m\u001b[1;33m[\u001b[0m\u001b[1;34m'state'\u001b[0m\u001b[1;33m]\u001b[0m \u001b[1;33m==\u001b[0m \u001b[1;34m'Florida'\u001b[0m\u001b[1;33m]\u001b[0m\u001b[1;33m.\u001b[0m\u001b[0miloc\u001b[0m\u001b[1;33m[\u001b[0m\u001b[1;36m210\u001b[0m\u001b[1;33m]\u001b[0m\u001b[1;33m\u001b[0m\u001b[1;33m\u001b[0m\u001b[0m\n\u001b[0m",
      "\u001b[1;32mD:\\Anaconda\\envs\\ds\\lib\\site-packages\\pandas\\core\\series.py\u001b[0m in \u001b[0;36m__getitem__\u001b[1;34m(self, key)\u001b[0m\n\u001b[0;32m    880\u001b[0m \u001b[1;33m\u001b[0m\u001b[0m\n\u001b[0;32m    881\u001b[0m         \u001b[1;32melif\u001b[0m \u001b[0mkey_is_scalar\u001b[0m\u001b[1;33m:\u001b[0m\u001b[1;33m\u001b[0m\u001b[1;33m\u001b[0m\u001b[0m\n\u001b[1;32m--> 882\u001b[1;33m             \u001b[1;32mreturn\u001b[0m \u001b[0mself\u001b[0m\u001b[1;33m.\u001b[0m\u001b[0m_get_value\u001b[0m\u001b[1;33m(\u001b[0m\u001b[0mkey\u001b[0m\u001b[1;33m)\u001b[0m\u001b[1;33m\u001b[0m\u001b[1;33m\u001b[0m\u001b[0m\n\u001b[0m\u001b[0;32m    883\u001b[0m \u001b[1;33m\u001b[0m\u001b[0m\n\u001b[0;32m    884\u001b[0m         \u001b[1;32mif\u001b[0m \u001b[0mis_hashable\u001b[0m\u001b[1;33m(\u001b[0m\u001b[0mkey\u001b[0m\u001b[1;33m)\u001b[0m\u001b[1;33m:\u001b[0m\u001b[1;33m\u001b[0m\u001b[1;33m\u001b[0m\u001b[0m\n",
      "\u001b[1;32mD:\\Anaconda\\envs\\ds\\lib\\site-packages\\pandas\\core\\series.py\u001b[0m in \u001b[0;36m_get_value\u001b[1;34m(self, label, takeable)\u001b[0m\n\u001b[0;32m    987\u001b[0m \u001b[1;33m\u001b[0m\u001b[0m\n\u001b[0;32m    988\u001b[0m         \u001b[1;31m# Similar to Index.get_value, but we do not fall back to positional\u001b[0m\u001b[1;33m\u001b[0m\u001b[1;33m\u001b[0m\u001b[1;33m\u001b[0m\u001b[0m\n\u001b[1;32m--> 989\u001b[1;33m         \u001b[0mloc\u001b[0m \u001b[1;33m=\u001b[0m \u001b[0mself\u001b[0m\u001b[1;33m.\u001b[0m\u001b[0mindex\u001b[0m\u001b[1;33m.\u001b[0m\u001b[0mget_loc\u001b[0m\u001b[1;33m(\u001b[0m\u001b[0mlabel\u001b[0m\u001b[1;33m)\u001b[0m\u001b[1;33m\u001b[0m\u001b[1;33m\u001b[0m\u001b[0m\n\u001b[0m\u001b[0;32m    990\u001b[0m         \u001b[1;32mreturn\u001b[0m \u001b[0mself\u001b[0m\u001b[1;33m.\u001b[0m\u001b[0mindex\u001b[0m\u001b[1;33m.\u001b[0m\u001b[0m_get_values_for_loc\u001b[0m\u001b[1;33m(\u001b[0m\u001b[0mself\u001b[0m\u001b[1;33m,\u001b[0m \u001b[0mloc\u001b[0m\u001b[1;33m,\u001b[0m \u001b[0mlabel\u001b[0m\u001b[1;33m)\u001b[0m\u001b[1;33m\u001b[0m\u001b[1;33m\u001b[0m\u001b[0m\n\u001b[0;32m    991\u001b[0m \u001b[1;33m\u001b[0m\u001b[0m\n",
      "\u001b[1;32mD:\\Anaconda\\envs\\ds\\lib\\site-packages\\pandas\\core\\indexes\\base.py\u001b[0m in \u001b[0;36mget_loc\u001b[1;34m(self, key, method, tolerance)\u001b[0m\n\u001b[0;32m   2895\u001b[0m                 \u001b[1;32mreturn\u001b[0m \u001b[0mself\u001b[0m\u001b[1;33m.\u001b[0m\u001b[0m_engine\u001b[0m\u001b[1;33m.\u001b[0m\u001b[0mget_loc\u001b[0m\u001b[1;33m(\u001b[0m\u001b[0mcasted_key\u001b[0m\u001b[1;33m)\u001b[0m\u001b[1;33m\u001b[0m\u001b[1;33m\u001b[0m\u001b[0m\n\u001b[0;32m   2896\u001b[0m             \u001b[1;32mexcept\u001b[0m \u001b[0mKeyError\u001b[0m \u001b[1;32mas\u001b[0m \u001b[0merr\u001b[0m\u001b[1;33m:\u001b[0m\u001b[1;33m\u001b[0m\u001b[1;33m\u001b[0m\u001b[0m\n\u001b[1;32m-> 2897\u001b[1;33m                 \u001b[1;32mraise\u001b[0m \u001b[0mKeyError\u001b[0m\u001b[1;33m(\u001b[0m\u001b[0mkey\u001b[0m\u001b[1;33m)\u001b[0m \u001b[1;32mfrom\u001b[0m \u001b[0merr\u001b[0m\u001b[1;33m\u001b[0m\u001b[1;33m\u001b[0m\u001b[0m\n\u001b[0m\u001b[0;32m   2898\u001b[0m \u001b[1;33m\u001b[0m\u001b[0m\n\u001b[0;32m   2899\u001b[0m         \u001b[1;32mif\u001b[0m \u001b[0mtolerance\u001b[0m \u001b[1;32mis\u001b[0m \u001b[1;32mnot\u001b[0m \u001b[1;32mNone\u001b[0m\u001b[1;33m:\u001b[0m\u001b[1;33m\u001b[0m\u001b[1;33m\u001b[0m\u001b[0m\n",
      "\u001b[1;31mKeyError\u001b[0m: 'state'"
     ]
    }
   ],
   "source": [
    "president_data_p[president_data_p['state'] == 'Florida'].iloc[210]"
   ]
  },
  {
   "cell_type": "code",
   "execution_count": 232,
   "metadata": {},
   "outputs": [
    {
     "data": {
      "text/html": [
       "<div>\n",
       "<style scoped>\n",
       "    .dataframe tbody tr th:only-of-type {\n",
       "        vertical-align: middle;\n",
       "    }\n",
       "\n",
       "    .dataframe tbody tr th {\n",
       "        vertical-align: top;\n",
       "    }\n",
       "\n",
       "    .dataframe thead th {\n",
       "        text-align: right;\n",
       "    }\n",
       "</style>\n",
       "<table border=\"1\" class=\"dataframe\">\n",
       "  <thead>\n",
       "    <tr style=\"text-align: right;\">\n",
       "      <th></th>\n",
       "      <th>county_state</th>\n",
       "      <th>party</th>\n",
       "      <th>total_votes</th>\n",
       "      <th>won</th>\n",
       "    </tr>\n",
       "  </thead>\n",
       "  <tbody>\n",
       "    <tr>\n",
       "      <th>0</th>\n",
       "      <td>Abbeville County_South Carolina</td>\n",
       "      <td>3RD</td>\n",
       "      <td>117</td>\n",
       "      <td>0</td>\n",
       "    </tr>\n",
       "    <tr>\n",
       "      <th>1</th>\n",
       "      <td>Abbeville County_South Carolina</td>\n",
       "      <td>DEM</td>\n",
       "      <td>4101</td>\n",
       "      <td>0</td>\n",
       "    </tr>\n",
       "    <tr>\n",
       "      <th>2</th>\n",
       "      <td>Abbeville County_South Carolina</td>\n",
       "      <td>REP</td>\n",
       "      <td>8215</td>\n",
       "      <td>1</td>\n",
       "    </tr>\n",
       "    <tr>\n",
       "      <th>3</th>\n",
       "      <td>Abbot_Maine</td>\n",
       "      <td>3RD</td>\n",
       "      <td>8</td>\n",
       "      <td>0</td>\n",
       "    </tr>\n",
       "    <tr>\n",
       "      <th>4</th>\n",
       "      <td>Abbot_Maine</td>\n",
       "      <td>DEM</td>\n",
       "      <td>121</td>\n",
       "      <td>0</td>\n",
       "    </tr>\n",
       "  </tbody>\n",
       "</table>\n",
       "</div>"
      ],
      "text/plain": [
       "                      county_state party  total_votes  won\n",
       "0  Abbeville County_South Carolina   3RD          117    0\n",
       "1  Abbeville County_South Carolina   DEM         4101    0\n",
       "2  Abbeville County_South Carolina   REP         8215    1\n",
       "3                      Abbot_Maine   3RD            8    0\n",
       "4                      Abbot_Maine   DEM          121    0"
      ]
     },
     "execution_count": 232,
     "metadata": {},
     "output_type": "execute_result"
    }
   ],
   "source": [
    "df = df.groupby(['county_state','party'], as_index=False).sum()\n",
    "df.head()"
   ]
  },
  {
   "cell_type": "code",
   "execution_count": 92,
   "metadata": {},
   "outputs": [
    {
     "data": {
      "text/html": [
       "<div>\n",
       "<style scoped>\n",
       "    .dataframe tbody tr th:only-of-type {\n",
       "        vertical-align: middle;\n",
       "    }\n",
       "\n",
       "    .dataframe tbody tr th {\n",
       "        vertical-align: top;\n",
       "    }\n",
       "\n",
       "    .dataframe thead th {\n",
       "        text-align: right;\n",
       "    }\n",
       "</style>\n",
       "<table border=\"1\" class=\"dataframe\">\n",
       "  <thead>\n",
       "    <tr style=\"text-align: right;\">\n",
       "      <th></th>\n",
       "      <th>county_state</th>\n",
       "      <th>party</th>\n",
       "      <th>total_votes</th>\n",
       "      <th>won</th>\n",
       "    </tr>\n",
       "  </thead>\n",
       "  <tbody>\n",
       "    <tr>\n",
       "      <th>0</th>\n",
       "      <td>Abbeville County_South Carolina</td>\n",
       "      <td>3RD</td>\n",
       "      <td>117</td>\n",
       "      <td>0</td>\n",
       "    </tr>\n",
       "    <tr>\n",
       "      <th>1</th>\n",
       "      <td>Abbeville County_South Carolina</td>\n",
       "      <td>DEM</td>\n",
       "      <td>4101</td>\n",
       "      <td>0</td>\n",
       "    </tr>\n",
       "    <tr>\n",
       "      <th>2</th>\n",
       "      <td>Abbeville County_South Carolina</td>\n",
       "      <td>REP</td>\n",
       "      <td>8215</td>\n",
       "      <td>1</td>\n",
       "    </tr>\n",
       "    <tr>\n",
       "      <th>3</th>\n",
       "      <td>Abbot_Maine</td>\n",
       "      <td>3RD</td>\n",
       "      <td>8</td>\n",
       "      <td>0</td>\n",
       "    </tr>\n",
       "    <tr>\n",
       "      <th>4</th>\n",
       "      <td>Abbot_Maine</td>\n",
       "      <td>DEM</td>\n",
       "      <td>121</td>\n",
       "      <td>0</td>\n",
       "    </tr>\n",
       "  </tbody>\n",
       "</table>\n",
       "</div>"
      ],
      "text/plain": [
       "                      county_state party  total_votes  won\n",
       "0  Abbeville County_South Carolina   3RD          117    0\n",
       "1  Abbeville County_South Carolina   DEM         4101    0\n",
       "2  Abbeville County_South Carolina   REP         8215    1\n",
       "3                      Abbot_Maine   3RD            8    0\n",
       "4                      Abbot_Maine   DEM          121    0"
      ]
     },
     "execution_count": 92,
     "metadata": {},
     "output_type": "execute_result"
    }
   ],
   "source": [
    "df.head()"
   ]
  },
  {
   "cell_type": "code",
   "execution_count": 96,
   "metadata": {},
   "outputs": [],
   "source": [
    "cat_encoder = OneHotEncoder()\n",
    "party_cat = df[['party']]\n",
    "x = cat_encoder.fit_transform(party_cat)\n",
    "x = x.toarray()"
   ]
  },
  {
   "cell_type": "code",
   "execution_count": 98,
   "metadata": {},
   "outputs": [
    {
     "data": {
      "text/html": [
       "<div>\n",
       "<style scoped>\n",
       "    .dataframe tbody tr th:only-of-type {\n",
       "        vertical-align: middle;\n",
       "    }\n",
       "\n",
       "    .dataframe tbody tr th {\n",
       "        vertical-align: top;\n",
       "    }\n",
       "\n",
       "    .dataframe thead th {\n",
       "        text-align: right;\n",
       "    }\n",
       "</style>\n",
       "<table border=\"1\" class=\"dataframe\">\n",
       "  <thead>\n",
       "    <tr style=\"text-align: right;\">\n",
       "      <th></th>\n",
       "      <th>0</th>\n",
       "      <th>1</th>\n",
       "      <th>2</th>\n",
       "    </tr>\n",
       "  </thead>\n",
       "  <tbody>\n",
       "    <tr>\n",
       "      <th>0</th>\n",
       "      <td>1.0</td>\n",
       "      <td>0.0</td>\n",
       "      <td>0.0</td>\n",
       "    </tr>\n",
       "    <tr>\n",
       "      <th>1</th>\n",
       "      <td>0.0</td>\n",
       "      <td>1.0</td>\n",
       "      <td>0.0</td>\n",
       "    </tr>\n",
       "    <tr>\n",
       "      <th>2</th>\n",
       "      <td>0.0</td>\n",
       "      <td>0.0</td>\n",
       "      <td>1.0</td>\n",
       "    </tr>\n",
       "    <tr>\n",
       "      <th>3</th>\n",
       "      <td>1.0</td>\n",
       "      <td>0.0</td>\n",
       "      <td>0.0</td>\n",
       "    </tr>\n",
       "    <tr>\n",
       "      <th>4</th>\n",
       "      <td>0.0</td>\n",
       "      <td>1.0</td>\n",
       "      <td>0.0</td>\n",
       "    </tr>\n",
       "    <tr>\n",
       "      <th>...</th>\n",
       "      <td>...</td>\n",
       "      <td>...</td>\n",
       "      <td>...</td>\n",
       "    </tr>\n",
       "    <tr>\n",
       "      <th>13894</th>\n",
       "      <td>0.0</td>\n",
       "      <td>1.0</td>\n",
       "      <td>0.0</td>\n",
       "    </tr>\n",
       "    <tr>\n",
       "      <th>13895</th>\n",
       "      <td>0.0</td>\n",
       "      <td>0.0</td>\n",
       "      <td>1.0</td>\n",
       "    </tr>\n",
       "    <tr>\n",
       "      <th>13896</th>\n",
       "      <td>1.0</td>\n",
       "      <td>0.0</td>\n",
       "      <td>0.0</td>\n",
       "    </tr>\n",
       "    <tr>\n",
       "      <th>13897</th>\n",
       "      <td>0.0</td>\n",
       "      <td>1.0</td>\n",
       "      <td>0.0</td>\n",
       "    </tr>\n",
       "    <tr>\n",
       "      <th>13898</th>\n",
       "      <td>0.0</td>\n",
       "      <td>0.0</td>\n",
       "      <td>1.0</td>\n",
       "    </tr>\n",
       "  </tbody>\n",
       "</table>\n",
       "<p>13899 rows × 3 columns</p>\n",
       "</div>"
      ],
      "text/plain": [
       "         0    1    2\n",
       "0      1.0  0.0  0.0\n",
       "1      0.0  1.0  0.0\n",
       "2      0.0  0.0  1.0\n",
       "3      1.0  0.0  0.0\n",
       "4      0.0  1.0  0.0\n",
       "...    ...  ...  ...\n",
       "13894  0.0  1.0  0.0\n",
       "13895  0.0  0.0  1.0\n",
       "13896  1.0  0.0  0.0\n",
       "13897  0.0  1.0  0.0\n",
       "13898  0.0  0.0  1.0\n",
       "\n",
       "[13899 rows x 3 columns]"
      ]
     },
     "execution_count": 98,
     "metadata": {},
     "output_type": "execute_result"
    }
   ],
   "source": [
    "pd.DataFrame(x)"
   ]
  },
  {
   "cell_type": "code",
   "execution_count": 94,
   "metadata": {},
   "outputs": [
    {
     "ename": "ValueError",
     "evalue": "Columns must be same length as key",
     "output_type": "error",
     "traceback": [
      "\u001b[1;31m---------------------------------------------------------------------------\u001b[0m",
      "\u001b[1;31mValueError\u001b[0m                                Traceback (most recent call last)",
      "\u001b[1;32m<ipython-input-94-6072d57890d2>\u001b[0m in \u001b[0;36m<module>\u001b[1;34m\u001b[0m\n\u001b[1;32m----> 1\u001b[1;33m \u001b[0mdf\u001b[0m\u001b[1;33m[\u001b[0m\u001b[1;33m[\u001b[0m\u001b[1;34m'1'\u001b[0m\u001b[1;33m,\u001b[0m\u001b[1;34m'2'\u001b[0m\u001b[1;33m,\u001b[0m\u001b[1;34m'3'\u001b[0m\u001b[1;33m]\u001b[0m\u001b[1;33m]\u001b[0m \u001b[1;33m=\u001b[0m \u001b[0mpd\u001b[0m\u001b[1;33m.\u001b[0m\u001b[0mDataFrame\u001b[0m\u001b[1;33m(\u001b[0m\u001b[1;33m[\u001b[0m\u001b[0mx\u001b[0m\u001b[1;33m]\u001b[0m\u001b[1;33m)\u001b[0m\u001b[1;33m\u001b[0m\u001b[1;33m\u001b[0m\u001b[0m\n\u001b[0m",
      "\u001b[1;32mD:\\Anaconda\\envs\\ds\\lib\\site-packages\\pandas\\core\\frame.py\u001b[0m in \u001b[0;36m__setitem__\u001b[1;34m(self, key, value)\u001b[0m\n\u001b[0;32m   3039\u001b[0m             \u001b[0mself\u001b[0m\u001b[1;33m.\u001b[0m\u001b[0m_setitem_frame\u001b[0m\u001b[1;33m(\u001b[0m\u001b[0mkey\u001b[0m\u001b[1;33m,\u001b[0m \u001b[0mvalue\u001b[0m\u001b[1;33m)\u001b[0m\u001b[1;33m\u001b[0m\u001b[1;33m\u001b[0m\u001b[0m\n\u001b[0;32m   3040\u001b[0m         \u001b[1;32melif\u001b[0m \u001b[0misinstance\u001b[0m\u001b[1;33m(\u001b[0m\u001b[0mkey\u001b[0m\u001b[1;33m,\u001b[0m \u001b[1;33m(\u001b[0m\u001b[0mSeries\u001b[0m\u001b[1;33m,\u001b[0m \u001b[0mnp\u001b[0m\u001b[1;33m.\u001b[0m\u001b[0mndarray\u001b[0m\u001b[1;33m,\u001b[0m \u001b[0mlist\u001b[0m\u001b[1;33m,\u001b[0m \u001b[0mIndex\u001b[0m\u001b[1;33m)\u001b[0m\u001b[1;33m)\u001b[0m\u001b[1;33m:\u001b[0m\u001b[1;33m\u001b[0m\u001b[1;33m\u001b[0m\u001b[0m\n\u001b[1;32m-> 3041\u001b[1;33m             \u001b[0mself\u001b[0m\u001b[1;33m.\u001b[0m\u001b[0m_setitem_array\u001b[0m\u001b[1;33m(\u001b[0m\u001b[0mkey\u001b[0m\u001b[1;33m,\u001b[0m \u001b[0mvalue\u001b[0m\u001b[1;33m)\u001b[0m\u001b[1;33m\u001b[0m\u001b[1;33m\u001b[0m\u001b[0m\n\u001b[0m\u001b[0;32m   3042\u001b[0m         \u001b[1;32melse\u001b[0m\u001b[1;33m:\u001b[0m\u001b[1;33m\u001b[0m\u001b[1;33m\u001b[0m\u001b[0m\n\u001b[0;32m   3043\u001b[0m             \u001b[1;31m# set column\u001b[0m\u001b[1;33m\u001b[0m\u001b[1;33m\u001b[0m\u001b[1;33m\u001b[0m\u001b[0m\n",
      "\u001b[1;32mD:\\Anaconda\\envs\\ds\\lib\\site-packages\\pandas\\core\\frame.py\u001b[0m in \u001b[0;36m_setitem_array\u001b[1;34m(self, key, value)\u001b[0m\n\u001b[0;32m   3065\u001b[0m             \u001b[1;32mif\u001b[0m \u001b[0misinstance\u001b[0m\u001b[1;33m(\u001b[0m\u001b[0mvalue\u001b[0m\u001b[1;33m,\u001b[0m \u001b[0mDataFrame\u001b[0m\u001b[1;33m)\u001b[0m\u001b[1;33m:\u001b[0m\u001b[1;33m\u001b[0m\u001b[1;33m\u001b[0m\u001b[0m\n\u001b[0;32m   3066\u001b[0m                 \u001b[1;32mif\u001b[0m \u001b[0mlen\u001b[0m\u001b[1;33m(\u001b[0m\u001b[0mvalue\u001b[0m\u001b[1;33m.\u001b[0m\u001b[0mcolumns\u001b[0m\u001b[1;33m)\u001b[0m \u001b[1;33m!=\u001b[0m \u001b[0mlen\u001b[0m\u001b[1;33m(\u001b[0m\u001b[0mkey\u001b[0m\u001b[1;33m)\u001b[0m\u001b[1;33m:\u001b[0m\u001b[1;33m\u001b[0m\u001b[1;33m\u001b[0m\u001b[0m\n\u001b[1;32m-> 3067\u001b[1;33m                     \u001b[1;32mraise\u001b[0m \u001b[0mValueError\u001b[0m\u001b[1;33m(\u001b[0m\u001b[1;34m\"Columns must be same length as key\"\u001b[0m\u001b[1;33m)\u001b[0m\u001b[1;33m\u001b[0m\u001b[1;33m\u001b[0m\u001b[0m\n\u001b[0m\u001b[0;32m   3068\u001b[0m                 \u001b[1;32mfor\u001b[0m \u001b[0mk1\u001b[0m\u001b[1;33m,\u001b[0m \u001b[0mk2\u001b[0m \u001b[1;32min\u001b[0m \u001b[0mzip\u001b[0m\u001b[1;33m(\u001b[0m\u001b[0mkey\u001b[0m\u001b[1;33m,\u001b[0m \u001b[0mvalue\u001b[0m\u001b[1;33m.\u001b[0m\u001b[0mcolumns\u001b[0m\u001b[1;33m)\u001b[0m\u001b[1;33m:\u001b[0m\u001b[1;33m\u001b[0m\u001b[1;33m\u001b[0m\u001b[0m\n\u001b[0;32m   3069\u001b[0m                     \u001b[0mself\u001b[0m\u001b[1;33m[\u001b[0m\u001b[0mk1\u001b[0m\u001b[1;33m]\u001b[0m \u001b[1;33m=\u001b[0m \u001b[0mvalue\u001b[0m\u001b[1;33m[\u001b[0m\u001b[0mk2\u001b[0m\u001b[1;33m]\u001b[0m\u001b[1;33m\u001b[0m\u001b[1;33m\u001b[0m\u001b[0m\n",
      "\u001b[1;31mValueError\u001b[0m: Columns must be same length as key"
     ]
    }
   ],
   "source": [
    "df[['1','2','3']] = pd.DataFrame([x])"
   ]
  },
  {
   "cell_type": "code",
   "execution_count": 61,
   "metadata": {},
   "outputs": [
    {
     "data": {
      "text/plain": [
       "311480"
      ]
     },
     "execution_count": 61,
     "metadata": {},
     "output_type": "execute_result"
    }
   ],
   "source": [
    "df.size"
   ]
  },
  {
   "cell_type": "code",
   "execution_count": 62,
   "metadata": {},
   "outputs": [
    {
     "data": {
      "text/plain": [
       "(31148, 3)"
      ]
     },
     "execution_count": 62,
     "metadata": {},
     "output_type": "execute_result"
    }
   ],
   "source": [
    "x.shape"
   ]
  },
  {
   "cell_type": "code",
   "execution_count": null,
   "metadata": {},
   "outputs": [],
   "source": []
  }
 ],
 "metadata": {
  "kernelspec": {
   "display_name": "Python 3",
   "language": "python",
   "name": "python3"
  },
  "language_info": {
   "codemirror_mode": {
    "name": "ipython",
    "version": 3
   },
   "file_extension": ".py",
   "mimetype": "text/x-python",
   "name": "python",
   "nbconvert_exporter": "python",
   "pygments_lexer": "ipython3",
   "version": "3.7.9"
  }
 },
 "nbformat": 4,
 "nbformat_minor": 4
}
